{
  "nbformat": 4,
  "nbformat_minor": 0,
  "metadata": {
    "colab": {
      "name": "ModeleML2.ipynb",
      "provenance": [],
      "authorship_tag": "ABX9TyOjB32JAi6o5ZA8ARckxCP9",
      "include_colab_link": true
    },
    "kernelspec": {
      "name": "python3",
      "display_name": "Python 3"
    },
    "language_info": {
      "name": "python"
    }
  },
  "cells": [
    {
      "cell_type": "markdown",
      "metadata": {
        "id": "view-in-github",
        "colab_type": "text"
      },
      "source": [
        "<a href=\"https://colab.research.google.com/github/CecileKafrouni/IntrusionDetection/blob/main/ModeleML2.ipynb\" target=\"_parent\"><img src=\"https://colab.research.google.com/assets/colab-badge.svg\" alt=\"Open In Colab\"/></a>"
      ]
    },
    {
      "cell_type": "code",
      "metadata": {
        "colab": {
          "base_uri": "https://localhost:8080/"
        },
        "id": "uDYN6cHojEQM",
        "outputId": "9f96ab7e-5343-40a7-9965-6003fe734f3e"
      },
      "source": [
        "from google.colab import drive\n",
        "drive.mount(\"/content/drive\", force_remount=True)"
      ],
      "execution_count": 5,
      "outputs": [
        {
          "output_type": "stream",
          "text": [
            "Mounted at /content/drive\n"
          ],
          "name": "stdout"
        }
      ]
    },
    {
      "cell_type": "code",
      "metadata": {
        "colab": {
          "base_uri": "https://localhost:8080/"
        },
        "id": "eJiBMVAGjKzm",
        "outputId": "4e593475-36f0-4d55-c504-11a1bf5d158e"
      },
      "source": [
        "import pandas as pd\n",
        "import matplotlib.pyplot as plt\n",
        "from sklearn import metrics\n",
        "\n",
        "#Math modules\n",
        "import numpy as np\n",
        "import time\n",
        "\n",
        "#Models tools\n",
        "from sklearn.model_selection import train_test_split\n",
        "from sklearn.model_selection import RandomizedSearchCV\n",
        "from sklearn.metrics import classification_report\n",
        "from imblearn.over_sampling import SMOTE\n",
        "from sklearn.metrics import confusion_matrix\n",
        "from sklearn.metrics import accuracy_score\n",
        "from sklearn.metrics import precision_score, f1_score\n",
        "\n",
        "#Models\n",
        "from sklearn.tree import DecisionTreeClassifier\n",
        "from sklearn.ensemble import RandomForestClassifier\n",
        "import xgboost as xgb\n",
        "from sklearn.ensemble import RandomForestClassifier\n",
        "from sklearn.neighbors import KNeighborsClassifier\n",
        "from sklearn.naive_bayes import GaussianNB\n",
        "from sklearn import svm\n",
        "from sklearn import preprocessing\n",
        "from sklearn.linear_model import Perceptron\n",
        "\n",
        "path = '/content/drive/MyDrive/mespi/'"
      ],
      "execution_count": 6,
      "outputs": [
        {
          "output_type": "stream",
          "text": [
            "/usr/local/lib/python3.7/dist-packages/sklearn/externals/six.py:31: FutureWarning: The module is deprecated in version 0.21 and will be removed in version 0.23 since we've dropped support for Python 2.7. Please rely on the official version of six (https://pypi.org/project/six/).\n",
            "  \"(https://pypi.org/project/six/).\", FutureWarning)\n",
            "/usr/local/lib/python3.7/dist-packages/sklearn/utils/deprecation.py:144: FutureWarning: The sklearn.neighbors.base module is  deprecated in version 0.22 and will be removed in version 0.24. The corresponding classes / functions should instead be imported from sklearn.neighbors. Anything that cannot be imported from sklearn.neighbors is now part of the private API.\n",
            "  warnings.warn(message, FutureWarning)\n"
          ],
          "name": "stderr"
        }
      ]
    },
    {
      "cell_type": "code",
      "metadata": {
        "id": "yCmTKnRTj0V2"
      },
      "source": [
        "import warnings\n",
        "warnings.filterwarnings('ignore')"
      ],
      "execution_count": 7,
      "outputs": []
    },
    {
      "cell_type": "markdown",
      "metadata": {
        "id": "R62_1E4ElRBG"
      },
      "source": [
        "# Nouvelle section"
      ]
    },
    {
      "cell_type": "markdown",
      "metadata": {
        "id": "Lr6bideYlRpA"
      },
      "source": [
        "# Modele Knn\n"
      ]
    },
    {
      "cell_type": "code",
      "metadata": {
        "id": "mtKiTy_XgzGh"
      },
      "source": [
        "df=pd.read_csv(path + \"df_total_csv_normalisee_DoH.csv\", sep=';')\n",
        "colonne = 'DoH'"
      ],
      "execution_count": 8,
      "outputs": []
    },
    {
      "cell_type": "code",
      "metadata": {
        "id": "csrLdfZfj1Mr"
      },
      "source": [
        "def ROC_curve(df, colonne, model, model_name):\n",
        "    \n",
        "    X = df.drop([colonne], axis = 1)\n",
        "    y = df[colonne]\n",
        "    \n",
        "    oversample = SMOTE()\n",
        "    X_smote, y_smote = oversample.fit_sample(X, y)\n",
        "    \n",
        "    X_train, X_test, y_train, y_test = train_test_split(X_smote, y_smote, test_size=0.2, random_state=1)\n",
        "    \n",
        "    probs = model.predict_proba(X_test)\n",
        "    preds = probs[:,1]\n",
        "    fpr, tpr, threshold = metrics.roc_curve(y_test, preds)\n",
        "    roc_auc = metrics.auc(fpr, tpr)\n",
        "    \n",
        "    plt.title('Receiver Operating Characteristic for ' + model_name)\n",
        "    plt.plot(fpr, tpr, 'b', label = 'AUC = %0.2f' % roc_auc)\n",
        "    plt.legend(loc = 'lower right')\n",
        "    plt.plot([0, 1], [0, 1],'r--')\n",
        "    plt.xlim([0, 1])\n",
        "    plt.ylim([0, 1])\n",
        "    plt.ylabel('True Positive Rate')\n",
        "    plt.xlabel('False Positive Rate')\n",
        "    plt.show()"
      ],
      "execution_count": 9,
      "outputs": []
    },
    {
      "cell_type": "code",
      "metadata": {
        "id": "fi4pm8Klj2j2"
      },
      "source": [
        "def DTC(df, colonne,criterion_param, splitter_param, max_depth_param,\n",
        "                                 min_samples_split_param, min_samples_leaf_param, min_weight_fraction_leaf_param, \n",
        "                                 max_features_param, random_state_param, max_leaf_nodes_param, min_impurity_decrease_param, \n",
        "                                 min_impurity_split_param, class_weight_param, ccp_alpha_param):\n",
        "    \n",
        "    t_debut = time.time()\n",
        "\n",
        "    print(\"Training Decision Tree Classifier Algo ...\\n \")\n",
        "    # Create Decision Tree classifer object\n",
        "    DTC = DecisionTreeClassifier(criterion=criterion_param, splitter=splitter_param, max_depth=max_depth_param,\n",
        "                                 min_samples_split=min_samples_split_param, min_samples_leaf=min_samples_leaf_param, \n",
        "                                 min_weight_fraction_leaf=min_weight_fraction_leaf_param, \n",
        "                                 max_features=max_features_param, random_state=random_state_param, \n",
        "                                 max_leaf_nodes=max_leaf_nodes_param, min_impurity_decrease=min_impurity_decrease_param, \n",
        "                                 min_impurity_split=min_impurity_split_param, class_weight=class_weight_param, \n",
        "                                 ccp_alpha=ccp_alpha_param)\n",
        "\n",
        "    X = df.drop([colonne], axis = 1)\n",
        "    y = df[colonne]\n",
        "    \n",
        "    oversample = SMOTE()\n",
        "    X_smote, y_smote = oversample.fit_sample(X, y)\n",
        "    \n",
        "    X_train, X_test, y_train, y_test = train_test_split(X_smote, y_smote, test_size=0.2, random_state=42)\n",
        "\n",
        "    \n",
        "    # Train Decision Tree Classifer\n",
        "    DTC = DTC.fit(X_train,y_train)\n",
        "       \n",
        "    y_pred_DTC = DTC.predict(X_test)\n",
        "    \n",
        "    # Metriques du Decision Tree Classifier\n",
        "    \n",
        "    print('\\tReport Decision Tree Classifier \\n\\n', classification_report(y_test, y_pred_DTC))\n",
        "    \n",
        "    t_fin = time.time()\n",
        "    \n",
        "    t_total = t_fin - t_debut\n",
        "    \n",
        "    print(\"Temps pour DTClassifier (en sec): \", np.round(t_total,4))\n",
        "        \n",
        "     \n",
        "    ROC_curve(df, colonne, DTC, 'Decision Tree Classifier')\n",
        "\n",
        "    print(\"\\nMatrice de confusion : \\n\",confusion_matrix(y_test, y_pred_DTC))\n",
        "    print(\"\\nAccuracy : \",accuracy_score(y_test, y_pred_DTC))\n",
        "    print(\"\\nPrecision :\", precision_score(y_test, y_pred_DTC))\n",
        "    print(\"\\nF1 score :\", f1_score(y_test, y_pred_DTC))\n",
        "\n",
        "    return DTC"
      ],
      "execution_count": 25,
      "outputs": []
    },
    {
      "cell_type": "code",
      "metadata": {
        "colab": {
          "base_uri": "https://localhost:8080/",
          "height": 739
        },
        "id": "JwuXzsouj28M",
        "outputId": "567d8f77-3826-4c15-8960-2c23bd6ec0f2"
      },
      "source": [
        "dtc_1 = DTC(df, colonne,criterion_param='gini', splitter_param='best', max_depth_param=None, min_samples_split_param=2, \n",
        "            min_samples_leaf_param=1, min_weight_fraction_leaf_param=0.0, max_features_param=None, random_state_param=None, \n",
        "            max_leaf_nodes_param=None, min_impurity_decrease_param=0.0, min_impurity_split_param=None, class_weight_param=None, \n",
        "            ccp_alpha_param=0.0)"
      ],
      "execution_count": 26,
      "outputs": [
        {
          "output_type": "stream",
          "text": [
            "Training Decision Tree Classifier Algo ...\n",
            " \n",
            "\tReport Decision Tree Classifier \n",
            "\n",
            "               precision    recall  f1-score   support\n",
            "\n",
            "         0.0       1.00      1.00      1.00    179284\n",
            "         1.0       1.00      1.00      1.00    179714\n",
            "\n",
            "    accuracy                           1.00    358998\n",
            "   macro avg       1.00      1.00      1.00    358998\n",
            "weighted avg       1.00      1.00      1.00    358998\n",
            "\n",
            "Temps pour DTClassifier (en sec):  128.1872\n"
          ],
          "name": "stdout"
        },
        {
          "output_type": "display_data",
          "data": {
            "image/png": "[encoded data removed]",
            "text/plain": [
              "<Figure size 432x288 with 1 Axes>"
            ]
          },
          "metadata": {
            "tags": [],
            "needs_background": "light"
          }
        },
        {
          "output_type": "stream",
          "text": [
            "\n",
            "Matrice de confusion : \n",
            " [[179196     88]\n",
            " [    83 179631]]\n",
            "\n",
            "Accuracy :  0.9995236742265974\n",
            "\n",
            "Precision : 0.9995103467079163\n",
            "\n",
            "F1 score : 0.9995242506948443\n"
          ],
          "name": "stdout"
        }
      ]
    },
    {
      "cell_type": "code",
      "metadata": {
        "id": "xJFwroJ0C43z"
      },
      "source": [
        "def KNN(df, colonne,n_neighbors):\n",
        "    \n",
        "    t_debut = time.time()\n",
        "\n",
        "    print(\"Training KNN ...\\n \")\n",
        "    # Create KneighborsClassifier object\n",
        "    KNN = KNeighborsClassifier()\n",
        "\n",
        "    X = df.drop([colonne], axis = 1)\n",
        "    y = df[colonne]\n",
        "    \n",
        "    oversample = SMOTE()\n",
        "    X_smote, y_smote = oversample.fit_sample(X, y)\n",
        "    \n",
        "    X_train, X_test, y_train, y_test = train_test_split(X_smote, y_smote, test_size=0.2, random_state=42)\n",
        "\n",
        "    \n",
        "    # Train knn\n",
        "    KNN = KNN.fit(X_train,y_train)\n",
        "       \n",
        "    y_pred_KNN = KNN.predict(X_test)\n",
        "    \n",
        "    # Metriques du Knn\n",
        "    \n",
        "    print('\\tReport KNN \\n\\n', classification_report(y_test, y_pred_KNN))\n",
        "    \n",
        "    t_fin = time.time()\n",
        "    \n",
        "    t_total = t_fin - t_debut\n",
        "    \n",
        "    print(\"Temps pour KNN (en sec): \", np.round(t_total,4))\n",
        "        \n",
        "     \n",
        "    ROC_curve(df, colonne, KNN, 'K neighbors classifier')\n",
        "\n",
        "    print(\"\\nMatrice de confusion : \\n\",confusion_matrix(y_test, y_pred_KNN))\n",
        "    print(\"\\nAccuracy : \",accuracy_score(y_test, y_pred_KNN))\n",
        "    print(\"\\nPrecision :\", precision_score(y_test, y_pred_KNN))\n",
        "    print(\"\\nF1 score :\", f1_score(y_test, y_pred_KNN))\n",
        "\n",
        "    return KNN\n"
      ],
      "execution_count": 12,
      "outputs": []
    },
    {
      "cell_type": "code",
      "metadata": {
        "colab": {
          "base_uri": "https://localhost:8080/",
          "height": 739
        },
        "id": "h0U4FENUHbGG",
        "outputId": "387122e9-5bf7-4918-ea6b-ea84f7de4a82"
      },
      "source": [
        "knn_1 = KNN(df, colonne)"
      ],
      "execution_count": 15,
      "outputs": [
        {
          "output_type": "stream",
          "text": [
            "Training Decision Tree Classifier Algo ...\n",
            " \n",
            "\tReport KNN \n",
            "\n",
            "               precision    recall  f1-score   support\n",
            "\n",
            "         0.0       0.96      0.71      0.81    179284\n",
            "         1.0       0.77      0.97      0.86    179714\n",
            "\n",
            "    accuracy                           0.84    358998\n",
            "   macro avg       0.87      0.84      0.84    358998\n",
            "weighted avg       0.87      0.84      0.84    358998\n",
            "\n",
            "Temps pour KNN (en sec):  2396.8783\n"
          ],
          "name": "stdout"
        },
        {
          "output_type": "display_data",
          "data": {
            "image/png": "[encoded data removed]",
            "text/plain": [
              "<Figure size 432x288 with 1 Axes>"
            ]
          },
          "metadata": {
            "tags": [],
            "needs_background": "light"
          }
        },
        {
          "output_type": "stream",
          "text": [
            "\n",
            "Matrice de confusion : \n",
            " [[126673  52611]\n",
            " [  4921 174793]]\n",
            "\n",
            "Accuracy :  0.8397428397929794\n",
            "\n",
            "Precision : 0.7686452305148547\n",
            "\n",
            "F1 score : 0.8586847056627317\n"
          ],
          "name": "stdout"
        }
      ]
    },
    {
      "cell_type": "code",
      "metadata": {
        "colab": {
          "base_uri": "https://localhost:8080/",
          "height": 739
        },
        "id": "sjGXzSAnETwB",
        "outputId": "642ce9cf-2066-4ba8-9c3a-ad4c85140b41"
      },
      "source": [
        "knn_1 = KNN(df, colonne)"
      ],
      "execution_count": 13,
      "outputs": [
        {
          "output_type": "stream",
          "text": [
            "Training Decision Tree Classifier Algo ...\n",
            " \n",
            "\tReport KNN \n",
            "\n",
            "               precision    recall  f1-score   support\n",
            "\n",
            "         0.0       0.96      0.71      0.82    179284\n",
            "         1.0       0.77      0.97      0.86    179714\n",
            "\n",
            "    accuracy                           0.84    358998\n",
            "   macro avg       0.87      0.84      0.84    358998\n",
            "weighted avg       0.87      0.84      0.84    358998\n",
            "\n",
            "Temps pour KNN (en sec):  1880.0094\n"
          ],
          "name": "stdout"
        },
        {
          "output_type": "display_data",
          "data": {
            "image/png": "[encoded data removed]",
            "text/plain": [
              "<Figure size 432x288 with 1 Axes>"
            ]
          },
          "metadata": {
            "tags": [],
            "needs_background": "light"
          }
        },
        {
          "output_type": "stream",
          "text": [
            "\n",
            "Matrice de confusion : \n",
            " [[126606  52678]\n",
            " [  4781 174933]]\n",
            "\n",
            "Accuracy :  0.839946183544198\n",
            "\n",
            "Precision : 0.7685612734006705\n",
            "\n",
            "F1 score : 0.8589357392745351\n"
          ],
          "name": "stdout"
        }
      ]
    },
    {
      "cell_type": "markdown",
      "metadata": {
        "id": "jMpb7sIaQydD"
      },
      "source": [
        "# Modele GNB"
      ]
    },
    {
      "cell_type": "code",
      "metadata": {
        "id": "YJ9XdnmGReZm"
      },
      "source": [
        "def GNB(df, colonne,var_smoothing,max_depth_param):\n",
        "    \n",
        "    t_debut = time.time()\n",
        "\n",
        "    print(\"Training GNB ...\\n \")\n",
        "    # Create GaussianNB object\n",
        "    GNB = GaussianNB(var_smoothing=1e-7,max_depth_param)\n",
        "\n",
        "    X = df.drop([colonne], axis = 1)\n",
        "    y = df[colonne]\n",
        "    \n",
        "    oversample = SMOTE()\n",
        "    X_smote, y_smote = oversample.fit_sample(X, y)\n",
        "    \n",
        "    X_train, X_test, y_train, y_test = train_test_split(X_smote, y_smote, test_size=0.2, random_state=1)\n",
        "\n",
        "    \n",
        "    # Train GNB\n",
        "    GNB = GNB.fit(X_train,y_train)\n",
        "       \n",
        "    y_pred_GNB = GNB.predict(X_test)\n",
        "    \n",
        "    # Metriques du GNB\n",
        "    \n",
        "    print('\\tReport GNB \\n\\n', classification_report(y_test, y_pred_GNB))\n",
        "    \n",
        "    t_fin = time.time()\n",
        "    \n",
        "    t_total = t_fin - t_debut\n",
        "    \n",
        "    print(\"Temps pour GNB (en sec): \", np.round(t_total,4))\n",
        "        \n",
        "     \n",
        "    ROC_curve(df, colonne, GNB, 'GNB')\n",
        "\n",
        "    print(\"\\nMatrice de confusion : \\n\",confusion_matrix(y_test, y_pred_GNB))\n",
        "    print(\"\\nAccuracy : \",accuracy_score(y_test, y_pred_GNB))\n",
        "    print(\"\\nPrecision :\", precision_score(y_test, y_pred_GNB))\n",
        "    print(\"\\nF1 score :\", f1_score(y_test, y_pred_GNB))\n",
        "\n",
        "    return GNB"
      ],
      "execution_count": 31,
      "outputs": []
    },
    {
      "cell_type": "markdown",
      "metadata": {
        "id": "rF5Lhf8Ig7xT"
      },
      "source": [
        "Paramètre de base "
      ]
    },
    {
      "cell_type": "code",
      "metadata": {
        "colab": {
          "base_uri": "https://localhost:8080/",
          "height": 174
        },
        "id": "6pP1Eq9jYSRg",
        "outputId": "6d6b7377-e7f1-4284-9195-2acf856f285d"
      },
      "source": [
        "gnb_1 = GNB(df, colonne)"
      ],
      "execution_count": 29,
      "outputs": [
        {
          "output_type": "error",
          "ename": "TypeError",
          "evalue": "ignored",
          "traceback": [
            "\u001b[0;31m---------------------------------------------------------------------------\u001b[0m",
            "\u001b[0;31mTypeError\u001b[0m                                 Traceback (most recent call last)",
            "\u001b[0;32m<ipython-input-29-610cd8d26b0e>\u001b[0m in \u001b[0;36m<module>\u001b[0;34m()\u001b[0m\n\u001b[0;32m----> 1\u001b[0;31m \u001b[0mgnb_1\u001b[0m \u001b[0;34m=\u001b[0m \u001b[0mGNB\u001b[0m\u001b[0;34m(\u001b[0m\u001b[0mdf\u001b[0m\u001b[0;34m,\u001b[0m \u001b[0mcolonne\u001b[0m\u001b[0;34m)\u001b[0m\u001b[0;34m\u001b[0m\u001b[0;34m\u001b[0m\u001b[0m\n\u001b[0m",
            "\u001b[0;31mTypeError\u001b[0m: GNB() missing 1 required positional argument: 'var_smoothing'"
          ]
        }
      ]
    },
    {
      "cell_type": "code",
      "metadata": {
        "colab": {
          "base_uri": "https://localhost:8080/",
          "height": 739
        },
        "id": "6XfLD25lYZgN",
        "outputId": "8d504079-5d34-4ab2-cec2-4a041a839aa2"
      },
      "source": [
        "gnb_1 = GNB(df, colonne,var_smoothing=1e-7)"
      ],
      "execution_count": 32,
      "outputs": [
        {
          "output_type": "stream",
          "text": [
            "Training GNB ...\n",
            " \n",
            "\tReport GNB \n",
            "\n",
            "               precision    recall  f1-score   support\n",
            "\n",
            "         0.0       0.54      0.98      0.70    179136\n",
            "         1.0       0.89      0.18      0.30    179862\n",
            "\n",
            "    accuracy                           0.58    358998\n",
            "   macro avg       0.72      0.58      0.50    358998\n",
            "weighted avg       0.72      0.58      0.50    358998\n",
            "\n",
            "Temps pour GNB (en sec):  27.5002\n"
          ],
          "name": "stdout"
        },
        {
          "output_type": "display_data",
          "data": {
            "image/png": "[encoded data removed]",
            "text/plain": [
              "<Figure size 432x288 with 1 Axes>"
            ]
          },
          "metadata": {
            "tags": [],
            "needs_background": "light"
          }
        },
        {
          "output_type": "stream",
          "text": [
            "\n",
            "Matrice de confusion : \n",
            " [[175117   4019]\n",
            " [147071  32791]]\n",
            "\n",
            "Accuracy :  0.5791341455941259\n",
            "\n",
            "Precision : 0.8908177125781038\n",
            "\n",
            "F1 score : 0.3026787032934574\n"
          ],
          "name": "stdout"
        }
      ]
    },
    {
      "cell_type": "code",
      "metadata": {
        "colab": {
          "base_uri": "https://localhost:8080/",
          "height": 739
        },
        "id": "vEF-nOsviR0r",
        "outputId": "83ff26c9-4a57-4faa-bab3-5a13844e6666"
      },
      "source": [
        "gnb_1 = GNB(df, colonne,var_smoothing=1e-4)"
      ],
      "execution_count": 33,
      "outputs": [
        {
          "output_type": "stream",
          "text": [
            "Training GNB ...\n",
            " \n",
            "\tReport GNB \n",
            "\n",
            "               precision    recall  f1-score   support\n",
            "\n",
            "         0.0       0.54      0.98      0.70    179136\n",
            "         1.0       0.89      0.18      0.30    179862\n",
            "\n",
            "    accuracy                           0.58    358998\n",
            "   macro avg       0.72      0.58      0.50    358998\n",
            "weighted avg       0.72      0.58      0.50    358998\n",
            "\n",
            "Temps pour GNB (en sec):  30.3485\n"
          ],
          "name": "stdout"
        },
        {
          "output_type": "display_data",
          "data": {
            "image/png": "[encoded data removed]",
            "text/plain": [
              "<Figure size 432x288 with 1 Axes>"
            ]
          },
          "metadata": {
            "tags": [],
            "needs_background": "light"
          }
        },
        {
          "output_type": "stream",
          "text": [
            "\n",
            "Matrice de confusion : \n",
            " [[175121   4015]\n",
            " [147103  32759]]\n",
            "\n",
            "Accuracy :  0.5790561507306448\n",
            "\n",
            "Precision : 0.8908196008049165\n",
            "\n",
            "F1 score : 0.30243357521372255\n"
          ],
          "name": "stdout"
        }
      ]
    },
    {
      "cell_type": "code",
      "metadata": {
        "colab": {
          "base_uri": "https://localhost:8080/",
          "height": 739
        },
        "id": "pLyswXzhiwjj",
        "outputId": "1a0520fe-b248-4212-9b04-d651af10dd1f"
      },
      "source": [
        "gnb_1 = GNB(df, colonne,var_smoothing=1e-12)"
      ],
      "execution_count": 34,
      "outputs": [
        {
          "output_type": "stream",
          "text": [
            "Training GNB ...\n",
            " \n",
            "\tReport GNB \n",
            "\n",
            "               precision    recall  f1-score   support\n",
            "\n",
            "         0.0       0.54      0.98      0.70    179136\n",
            "         1.0       0.89      0.18      0.31    179862\n",
            "\n",
            "    accuracy                           0.58    358998\n",
            "   macro avg       0.72      0.58      0.50    358998\n",
            "weighted avg       0.72      0.58      0.50    358998\n",
            "\n",
            "Temps pour GNB (en sec):  32.3383\n"
          ],
          "name": "stdout"
        },
        {
          "output_type": "display_data",
          "data": {
            "image/png": "[encoded data removed]",
            "text/plain": [
              "<Figure size 432x288 with 1 Axes>"
            ]
          },
          "metadata": {
            "tags": [],
            "needs_background": "light"
          }
        },
        {
          "output_type": "stream",
          "text": [
            "\n",
            "Matrice de confusion : \n",
            " [[175120   4016]\n",
            " [146754  33108]]\n",
            "\n",
            "Accuracy :  0.5800255154624817\n",
            "\n",
            "Precision : 0.8918220019394462\n",
            "\n",
            "F1 score : 0.3051625450489893\n"
          ],
          "name": "stdout"
        }
      ]
    },
    {
      "cell_type": "markdown",
      "metadata": {
        "id": "BvduYxQEYaDb"
      },
      "source": [
        "# Modele SVM"
      ]
    },
    {
      "cell_type": "code",
      "metadata": {
        "id": "xoXFqn25YfQn"
      },
      "source": [
        "def SVM(df, colonne,class_weight):\n",
        "    \n",
        "    t_debut = time.time()\n",
        "\n",
        "    print(\"Training SVM ...\\n \")\n",
        "    # Create SVM object\n",
        "    SVM =svm.SVC (class_weight='balanced')\n",
        "\n",
        "    X = df.drop([colonne], axis = 1)\n",
        "    y = df[colonne]\n",
        "    \n",
        "    oversample = SMOTE()\n",
        "    X_smote, y_smote = oversample.fit_sample(X, y)\n",
        "    \n",
        "    X_train, X_test, y_train, y_test = train_test_split(X_smote, y_smote, test_size=0.2, random_state=42)\n",
        "\n",
        "    \n",
        "    # Train svm\n",
        "    SVM.fit(X_train,y_train)\n",
        "       \n",
        "    y_pred_SVM = SVM.predict(X_test)\n",
        "    \n",
        "    # Metriques du svm\n",
        "    \n",
        "    print('\\tReport SVM \\n\\n', classification_report(y_test, y_pred_SVM))\n",
        "    \n",
        "    t_fin = time.time()\n",
        "    \n",
        "    t_total = t_fin - t_debut\n",
        "    \n",
        "    print(\"Temps pour SVM (en sec): \", np.round(t_total,4))\n",
        "        \n",
        "     \n",
        "    ROC_curve(df, colonne, SVM, 'SVM')\n",
        "\n",
        "    print(\"\\nMatrice de confusion : \\n\",confusion_matrix(y_test, y_pred_SVM))\n",
        "    print(\"\\nAccuracy : \",accuracy_score(y_test, y_pred_SVM))\n",
        "    print(\"\\nPrecision :\", precision_score(y_test, y_pred_SVM))\n",
        "    print(\"\\nF1 score :\", f1_score(y_test, y_pred_SVM))\n",
        "\n",
        "    return SVM"
      ],
      "execution_count": 25,
      "outputs": []
    },
    {
      "cell_type": "code",
      "metadata": {
        "colab": {
          "base_uri": "https://localhost:8080/"
        },
        "id": "Ijn8yctuZf8H",
        "outputId": "4ea7dc75-f7a1-48b7-c8bc-b71aafc1c02c"
      },
      "source": [
        "svm_1 = SVM(df, colonne,class_weight='balanced')"
      ],
      "execution_count": null,
      "outputs": [
        {
          "output_type": "stream",
          "text": [
            "Training SVM ...\n",
            " \n"
          ],
          "name": "stdout"
        }
      ]
    },
    {
      "cell_type": "markdown",
      "metadata": {
        "id": "YbxbNlIBZlna"
      },
      "source": [
        "# Perceptron"
      ]
    },
    {
      "cell_type": "code",
      "metadata": {
        "id": "buvkCO6MZzlw"
      },
      "source": [
        "def PerceptronAlgo(df, colonne,probability):\n",
        "    \n",
        "    t_debut = time.time()\n",
        "\n",
        "    print(\"Training Perceptron ...\\n \")\n",
        "    # Create Perceptron object\n",
        "    Per =Perceptron()\n",
        "\n",
        "    X = df.drop([colonne], axis = 1)\n",
        "    y = df[colonne]\n",
        "    \n",
        "    oversample = SMOTE()\n",
        "    X_smote, y_smote = oversample.fit_sample(X, y)\n",
        "    \n",
        "    X_train, X_test, y_train, y_test = train_test_split(X_smote, y_smote, test_size=0.2, random_state=1)\n",
        "\n",
        "    \n",
        "    # Train perceptron\n",
        "    Per.fit(X_train,y_train)\n",
        "       \n",
        "    y_pred_Per = Per.predict(X_test)\n",
        "    \n",
        "    # Metriques du perceptron\n",
        "    \n",
        "    print('\\tReport Perceptron \\n\\n', classification_report(y_test, y_pred_Per))\n",
        "    \n",
        "    t_fin = time.time()\n",
        "    \n",
        "    t_total = t_fin - t_debut\n",
        "    \n",
        "    print(\"Temps pour Perceptron (en sec): \", np.round(t_total,4))\n",
        "        \n",
        "     \n",
        "    #ROC_curve(df, colonne, Per, 'Perceptron')\n",
        "\n",
        "    print(\"\\nMatrice de confusion : \\n\",confusion_matrix(y_test, y_pred_Per))\n",
        "    print(\"\\nAccuracy : \",accuracy_score(y_test, y_pred_Per))\n",
        "    print(\"\\nPrecision :\", precision_score(y_test, y_pred_Per))\n",
        "    print(\"\\nF1 score :\", f1_score(y_test, y_pred_Per))\n",
        "\n",
        "    return Per"
      ],
      "execution_count": 23,
      "outputs": []
    },
    {
      "cell_type": "code",
      "metadata": {
        "colab": {
          "base_uri": "https://localhost:8080/"
        },
        "id": "YPbS5q3rb19b",
        "outputId": "59847897-ae6a-469a-89b6-24d070b6d6fb"
      },
      "source": [
        "perceptron_1 = PerceptronAlgo(df, colonne,probability=True)"
      ],
      "execution_count": 24,
      "outputs": [
        {
          "output_type": "stream",
          "text": [
            "Training Perceptron ...\n",
            " \n",
            "\tReport Perceptron \n",
            "\n",
            "               precision    recall  f1-score   support\n",
            "\n",
            "         0.0       0.00      0.00      0.00    179136\n",
            "         1.0       0.50      1.00      0.67    179862\n",
            "\n",
            "    accuracy                           0.50    358998\n",
            "   macro avg       0.25      0.50      0.33    358998\n",
            "weighted avg       0.25      0.50      0.33    358998\n",
            "\n",
            "Temps pour Perceptron (en sec):  38.999\n",
            "\n",
            "Matrice de confusion : \n",
            " [[     0 179136]\n",
            " [     0 179862]]\n",
            "\n",
            "Accuracy :  0.5010111476944161\n",
            "\n",
            "Precision : 0.5010111476944161\n",
            "\n",
            "F1 score : 0.6675648591470883\n"
          ],
          "name": "stdout"
        }
      ]
    }
  ]
}